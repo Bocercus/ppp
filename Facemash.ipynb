{
 "cells": [
  {
   "cell_type": "code",
   "execution_count": 1,
   "metadata": {},
   "outputs": [],
   "source": [
    "import sqlite3 as sq\n",
    "import random"
   ]
  },
  {
   "cell_type": "code",
   "execution_count": 2,
   "metadata": {},
   "outputs": [],
   "source": [
    "c=sq.connect(\"colors.db\")\n",
    "cur=c.cursor()"
   ]
  },
  {
   "cell_type": "code",
   "execution_count": 7,
   "metadata": {},
   "outputs": [],
   "source": [
    "firsttime=False\n",
    "tabname=\"cols\"\n",
    "entries=[\"red\",\"yellow\",\"green\",\"cyan\",\"blue\",\"violet\"]\n",
    "\n",
    "if firsttime:\n",
    "    cur.execute(\"CREATE TABLE \"+tabname+\" (id real, wins real, games real, col text)\")\n",
    "    id_acc=0\n",
    "    for en in entries:\n",
    "        cur.execute(\"INSERT INTO \"+tabname+\" VALUES (\"+str(id_acc)+\",0,0,'\"+en+\"')\")\n",
    "        id_acc=id_acc+1\n",
    "    c.commit()"
   ]
  },
  {
   "cell_type": "code",
   "execution_count": 12,
   "metadata": {},
   "outputs": [],
   "source": [
    "#SORT-algo: https://stackoverflow.com/questions/18563680/sorting-2d-list-python/18564382\n",
    "\n",
    "def showScore():    #Showing ordered scorelist\n",
    "    rows=cur.execute('SELECT * FROM '+tabname)\n",
    "    rowrati=[]\n",
    "    #rowle=len(rows)\n",
    "    for i in rows.fetchall():\n",
    "        en=[]\n",
    "        en.append(i[0])\n",
    "        en.append(i[1])\n",
    "        en.append(i[2])\n",
    "        en.append(i[3])\n",
    "        if(i[2]!=0):\n",
    "            myratio=i[1]/i[2]  #wins/games\n",
    "            en.append(myratio)\n",
    "        else:\n",
    "            myratio=0\n",
    "            en.append(myratio)\n",
    "        rowrati.append(en)\n",
    "    slist=sorted(rowrati,key=lambda l:l[4], reverse=True)   #Sorting the list by the ratio-colomn\n",
    "    for i in slist:\n",
    "        print(i)\n",
    "def play():\n",
    "    rows=cur.execute('SELECT * FROM '+tabname).fetchall()\n",
    "    ll=len(rows)-1\n",
    "    A_id=random.randint(0,ll)\n",
    "    B_id=random.randint(0,ll)\n",
    "\n",
    "    while(A_id==B_id):\n",
    "        B_id=random.randint(0,ll)   #Don't pick the same\n",
    "    print(\"Colors:\",rows[A_id][3],\"&\",rows[B_id][3])\n",
    "    print(\"Type 0 for\",rows[A_id][3],\"type 1 for\",rows[B_id][3],\"type another number to skip\")\n",
    "\n",
    "    choi=int(input())\n",
    "    if choi==0 or choi==1:\n",
    "        rows=cur.execute('SELECT * FROM '+tabname).fetchall()\n",
    "        play_ids=[A_id,B_id]\n",
    "        win=rows[play_ids[choi]][0]\n",
    "        winsc=rows[play_ids[choi]][1]+1\n",
    "        wingm=rows[play_ids[choi]][2]+1\n",
    "        los=rows[play_ids[1-choi]][0]\n",
    "        losgm=rows[play_ids[1-choi]][2]+1\n",
    "        cur.execute(\"UPDATE \"+tabname+\" SET wins = \"+str(winsc)+\", games = \"+str(wingm)+\" WHERE id=\"+str(win))\n",
    "        cur.execute(\"UPDATE \"+tabname+\" SET games = \"+str(losgm)+\" WHERE id=\"+str(los))\n",
    "    else:\n",
    "        print(\"Skipping\")\n",
    "def resetTable():\n",
    "    cur.execute(\"UPDATE \"+tabname+\" SET wins = 0, games = 0\")"
   ]
  },
  {
   "cell_type": "code",
   "execution_count": 20,
   "metadata": {},
   "outputs": [
    {
     "name": "stdout",
     "output_type": "stream",
     "text": [
      "Colors: yellow & cyan\n",
      "Type 0 for yellow type 1 for cyan type another number to skip\n",
      "0\n",
      "[4.0, 1.0, 1.0, 'blue', 1.0]\n",
      "[2.0, 2.0, 3.0, 'green', 0.6666666666666666]\n",
      "[3.0, 2.0, 4.0, 'cyan', 0.5]\n",
      "[5.0, 1.0, 2.0, 'violet', 0.5]\n",
      "[0.0, 1.0, 3.0, 'red', 0.3333333333333333]\n",
      "[1.0, 1.0, 3.0, 'yellow', 0.3333333333333333]\n"
     ]
    }
   ],
   "source": [
    "#UPDATE \"+tabname+\" SET wins = 11, games = 12 WHERE col='blue'\n",
    "\n",
    "#TODO: ability to sort among equal ratios\n",
    "\n",
    "play()\n",
    "showScore()"
   ]
  },
  {
   "cell_type": "code",
   "execution_count": 21,
   "metadata": {},
   "outputs": [],
   "source": [
    "#cur.execute(\"DROP TABLE \"+tabname)\n",
    "c.commit()\n",
    "cur.close()"
   ]
  },
  {
   "cell_type": "code",
   "execution_count": null,
   "metadata": {},
   "outputs": [],
   "source": []
  }
 ],
 "metadata": {
  "kernelspec": {
   "display_name": "Python 3",
   "language": "python",
   "name": "python3"
  },
  "language_info": {
   "codemirror_mode": {
    "name": "ipython",
    "version": 3
   },
   "file_extension": ".py",
   "mimetype": "text/x-python",
   "name": "python",
   "nbconvert_exporter": "python",
   "pygments_lexer": "ipython3",
   "version": "3.7.4"
  }
 },
 "nbformat": 4,
 "nbformat_minor": 2
}
