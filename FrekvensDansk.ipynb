{
 "cells": [
  {
   "cell_type": "code",
   "execution_count": 1,
   "metadata": {},
   "outputs": [],
   "source": [
    "import numpy as np"
   ]
  },
  {
   "cell_type": "code",
   "execution_count": 31,
   "metadata": {},
   "outputs": [
    {
     "data": {
      "text/plain": [
       "'veipdy ree eids laianrauu tfrlaeaf yl kedyegroe ieer ieree tgnd rnfa uetfakr let eoeoaeeo ogag lna ivha toid trpa ipu erp ees eum detal dkn vode omiso unrl iggmlsk øikse snst nars sbt itne noe ssa ooebrr rfnndn merriøe mi fsd edrn oignmtdd ltæ fredsdaek inn aog ietfaa rem nbtu vlm ofedeee pdem daiso ieatrd dar ltr dfme insøåsnms sdpigg eoggl hyf åtte æledn deelgrn sror ol gsep lgi rdt tiei eie al riøo asnd ænt nar eig ønvk cein dov nbv itn kesø udeei nnlaod kbå deca lmnh vstf sgtne fån eedesdee rterv hio needo erev irsad hngn sdnk lfea ermgø siagl hse pnu arttlk vyevdse eri aeh bpfvessyd deb snd dthve krdegfna mæorme khi eemb eems arl reg eanrdjtni ærdm rngø usms rosvosje vdeæ tkåd tfg sålerare aeritatfe hsnsl edls glysbgsl nd eibg rhmdkdfeb øedt rinyevnr eele etn rnn oægsd heeei orenøå jrd siveeae dbtr edn vdr sgnt pire tri gdæb iia spg dyogd lee dst sl teanfh egågaoe sdufra nntodi næralee tad kehun eødntrmv twmo irie geidvm ieefere itit rksf hkgimio etjue hnrsenee mhum rprr eerf megtereee areh adgm tsguj vetdr git rmseøh gt dåef erarhv sagldevna emr sæfa fbfiadlø de erlr taez dhds aey inbej nkhåt oec jrboå ddymee tenerøiv eankf geebuei kvu esd omneæarm aieevejn enindenr eio lg tdt tsr oe rde neee '"
      ]
     },
     "execution_count": 31,
     "metadata": {},
     "output_type": "execute_result"
    }
   ],
   "source": [
    "dan=[.0601,.0141,.0029,.0724,.1670,.0227,.0456,.0188,.0555,.0111,.0307,.0485,.0340,.0755,.0414,.0133,.0002,.0761,.0567,.0703,.0185,.0288,.0002,.0002,.0072,.0002,.0093,.0084,.0103]\n",
    "#dal=np.array(\"abcdefghijklmnopqrstuvwxyzæøå\")\n",
    "dal=['a','b','c','d','e','f','g','h','i','j','k','l','m','n','o','p','q','r','s','t','u','v','w','x','y','z','æ','ø','å']\n",
    "st=\"\"\n",
    "spp=[0,.05,.3,.3,.15,.07,.06,.04,.03]\n",
    "spc=np.random.choice(range(len(spp)),p=spp)\n",
    "for i in range(1000):\n",
    "    st+=np.random.choice(dal,p=dan)\n",
    "    if(spc<1):\n",
    "        spc=np.random.choice(range(len(spp)),p=spp)\n",
    "        st+=\" \"\n",
    "    else:\n",
    "        spc-=1\n",
    "#np.array(\"abcdefghijklmnopqrstuvwxyzæøå\")\n",
    "st"
   ]
  },
  {
   "cell_type": "code",
   "execution_count": null,
   "metadata": {},
   "outputs": [],
   "source": []
  }
 ],
 "metadata": {
  "kernelspec": {
   "display_name": "Python 3",
   "language": "python",
   "name": "python3"
  },
  "language_info": {
   "codemirror_mode": {
    "name": "ipython",
    "version": 3
   },
   "file_extension": ".py",
   "mimetype": "text/x-python",
   "name": "python",
   "nbconvert_exporter": "python",
   "pygments_lexer": "ipython3",
   "version": "3.7.4"
  }
 },
 "nbformat": 4,
 "nbformat_minor": 2
}
