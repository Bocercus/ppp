{
 "cells": [
  {
   "cell_type": "markdown",
   "metadata": {},
   "source": [
    "# Navier-Stokes\n",
    "## Incompressible:\n",
    "Smol:  \n",
    "$\\nabla\\cdot\\vec{u}=0$  \n",
    "Bigg:  \n",
    "$\\frac{\\partial\\vec{u}}{\\partial t}+(\\vec{u}\\cdot\\vec{\\nabla})\\vec{u}-\\nu\\nabla^2\\vec{u}=-\\vec{\\nabla}w+\\vec{g}$  \n",
    "$\\nabla w=\\frac{1}{\\rho_0}\\nabla p$  \n",
    "$\\nu=\\mu/\\rho_0$  \n",
    "In 3D:  \n",
    "$\\vec{u}=\\begin{pmatrix}u_x\\\\u_y\\\\u_z\\end{pmatrix},~\\vec{p}=\\begin{pmatrix}p_x\\\\p_y\\\\p_z\\end{pmatrix},~\\vec{g}=\\begin{pmatrix}g_x\\\\g_y\\\\g_z\\end{pmatrix}$  \n",
    "$\\Rightarrow\\begin{pmatrix}\\frac{\\partial u_x}{\\partial t}\\\\\\frac{\\partial u_y}{\\partial t}\\\\\\frac{\\partial u_z}{\\partial t}\\end{pmatrix}+\\begin{pmatrix}u_x\\frac{\\partial u_x}{\\partial x}+u_y\\frac{\\partial u_x}{\\partial y}+u_z\\frac{\\partial u_x}{\\partial z}\\\\u_x\\frac{\\partial u_y}{\\partial x}+u_y\\frac{\\partial u_y}{\\partial y}+u_z\\frac{\\partial u_y}{\\partial z}\\\\u_x\\frac{\\partial u_z}{\\partial x}+u_y\\frac{\\partial u_z}{\\partial y}+u_z\\frac{\\partial u_z}{\\partial z}\\end{pmatrix}-\\frac{\\mu}{\\rho_0}\\begin{pmatrix}\\frac{\\partial^2 u_x}{\\partial x^2}+\\frac{\\partial^2 u_x}{\\partial y^2}+\\frac{\\partial^2 u_x}{\\partial z^2}\\\\\\frac{\\partial^2 u_y}{\\partial x^2}+\\frac{\\partial^2 u_y}{\\partial y^2}+\\frac{\\partial^2 u_y}{\\partial z^2}\\\\\\frac{\\partial^2 u_z}{\\partial x^2}+\\frac{\\partial^2 u_z}{\\partial y^2}+\\frac{\\partial^2 u_z}{\\partial z^2}\\end{pmatrix}=-\\frac{1}{\\rho_0}\\begin{pmatrix}\\frac{\\partial p_x}{\\partial x}\\\\\\frac{\\partial p_y}{\\partial y}\\\\\\frac{\\partial p_z}{\\partial z}\\end{pmatrix}+\\begin{pmatrix}g_x\\\\g_y\\\\g_z\\end{pmatrix}$  \n",
    "$\\frac{\\partial u_x}{\\partial x}+\\frac{\\partial u_y}{\\partial y}+\\frac{\\partial u_z}{\\partial z}=0$  "
   ]
  },
  {
   "cell_type": "code",
   "execution_count": null,
   "metadata": {},
   "outputs": [],
   "source": []
  }
 ],
 "metadata": {
  "kernelspec": {
   "display_name": "Python 3",
   "language": "python",
   "name": "python3"
  },
  "language_info": {
   "codemirror_mode": {
    "name": "ipython",
    "version": 3
   },
   "file_extension": ".py",
   "mimetype": "text/x-python",
   "name": "python",
   "nbconvert_exporter": "python",
   "pygments_lexer": "ipython3",
   "version": "3.7.4"
  }
 },
 "nbformat": 4,
 "nbformat_minor": 2
}
