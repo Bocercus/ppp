{
 "cells": [
  {
   "cell_type": "code",
   "execution_count": 1,
   "metadata": {},
   "outputs": [],
   "source": [
    "import numpy as np\n",
    "import scipy.io.wavfile as scpio\n",
    "import matplotlib.pyplot as plt\n",
    "N=44100   #samplerate\n",
    "dur=4   #duration in seconds\n",
    "conc=27.5   #base frequency\n",
    "\n",
    "t_in=np.linspace(0,1,4*N)\n",
    "amp=np.iinfo(np.int16).max   #amplitude for int16-format"
   ]
  },
  {
   "cell_type": "code",
   "execution_count": 2,
   "metadata": {},
   "outputs": [],
   "source": [
    "def ratio(n):\n",
    "    if n==0:\n",
    "        return [2,1]\n",
    "    else:\n",
    "        return [n*2+1,2**np.floor(np.log(n)/np.log(2)+1)]   #returning [nominator,denominator]"
   ]
  },
  {
   "cell_type": "code",
   "execution_count": 3,
   "metadata": {},
   "outputs": [],
   "source": [
    "def export(octa,n):\n",
    "    r=ratio(n)\n",
    "    frq=conc*2**octa*r[0]/r[1]\n",
    "    out=.9*amp*np.sin(2*np.pi*dur*t_in*frq)   #output array\n",
    "    scpio.write(\"osi/osi\"+str(conc)+\"_\"+str(octa)+\"_\"+str(n)+\".wav\",N,out.astype(np.int16))   #export file\n",
    "\n",
    "#plt.plot(t_in,out)"
   ]
  },
  {
   "cell_type": "code",
   "execution_count": 4,
   "metadata": {},
   "outputs": [],
   "source": [
    "for o in range(6):\n",
    "    for i in range(16):\n",
    "        export(o,i)"
   ]
  },
  {
   "cell_type": "markdown",
   "metadata": {},
   "source": [
    "$2/1, 3/2, 4/3, 5/4, 6/5, 7/6, 8/7, 9/8, 10/9...$  \n",
    "$1/1, 3/2, 5/4, 7/4, 9/8, 11/8, 13/8, 15/8, 17/16, 19/16...$  \n",
    "$Math.pow(2,Math.floor(Math.log(n)/Math.log(2)+1))$  \n",
    "$2^{floor(log_2(n)+1)}$"
   ]
  },
  {
   "cell_type": "code",
   "execution_count": 5,
   "metadata": {},
   "outputs": [],
   "source": [
    "#for i in range(10):\n",
    "    #print(ratio(i))"
   ]
  },
  {
   "cell_type": "code",
   "execution_count": null,
   "metadata": {},
   "outputs": [],
   "source": []
  }
 ],
 "metadata": {
  "kernelspec": {
   "display_name": "Python 3",
   "language": "python",
   "name": "python3"
  },
  "language_info": {
   "codemirror_mode": {
    "name": "ipython",
    "version": 3
   },
   "file_extension": ".py",
   "mimetype": "text/x-python",
   "name": "python",
   "nbconvert_exporter": "python",
   "pygments_lexer": "ipython3",
   "version": "3.7.4"
  }
 },
 "nbformat": 4,
 "nbformat_minor": 2
}
